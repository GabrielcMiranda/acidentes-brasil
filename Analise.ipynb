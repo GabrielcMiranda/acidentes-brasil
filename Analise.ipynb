{
 "cells": [
  {
   "cell_type": "code",
   "execution_count": 3,
   "metadata": {},
   "outputs": [],
   "source": [
    "import pandas as pd\n",
    "import matplotlib.pyplot as plt\n",
    "import seaborn as sns"
   ]
  },
  {
   "cell_type": "code",
   "execution_count": 4,
   "metadata": {},
   "outputs": [],
   "source": [
    "df = pd.read_csv('Dados_PRF_2022.csv', encoding = 'latin1', sep = ';')"
   ]
  },
  {
   "cell_type": "code",
   "execution_count": 5,
   "metadata": {},
   "outputs": [
    {
     "data": {
      "text/html": [
       "<div>\n",
       "<style scoped>\n",
       "    .dataframe tbody tr th:only-of-type {\n",
       "        vertical-align: middle;\n",
       "    }\n",
       "\n",
       "    .dataframe tbody tr th {\n",
       "        vertical-align: top;\n",
       "    }\n",
       "\n",
       "    .dataframe thead th {\n",
       "        text-align: right;\n",
       "    }\n",
       "</style>\n",
       "<table border=\"1\" class=\"dataframe\">\n",
       "  <thead>\n",
       "    <tr style=\"text-align: right;\">\n",
       "      <th></th>\n",
       "      <th>id</th>\n",
       "      <th>data_inversa</th>\n",
       "      <th>dia_semana</th>\n",
       "      <th>horario</th>\n",
       "      <th>uf</th>\n",
       "      <th>br</th>\n",
       "      <th>km</th>\n",
       "      <th>municipio</th>\n",
       "      <th>causa_acidente</th>\n",
       "      <th>tipo_acidente</th>\n",
       "      <th>...</th>\n",
       "      <th>feridos_graves</th>\n",
       "      <th>ilesos</th>\n",
       "      <th>ignorados</th>\n",
       "      <th>feridos</th>\n",
       "      <th>veiculos</th>\n",
       "      <th>latitude</th>\n",
       "      <th>longitude</th>\n",
       "      <th>regional</th>\n",
       "      <th>delegacia</th>\n",
       "      <th>uop</th>\n",
       "    </tr>\n",
       "  </thead>\n",
       "  <tbody>\n",
       "    <tr>\n",
       "      <th>0</th>\n",
       "      <td>405151</td>\n",
       "      <td>2022-01-01</td>\n",
       "      <td>sábado</td>\n",
       "      <td>01:35:00</td>\n",
       "      <td>PI</td>\n",
       "      <td>316.0</td>\n",
       "      <td>415</td>\n",
       "      <td>MARCOLANDIA</td>\n",
       "      <td>Ingestão de álcool pelo condutor</td>\n",
       "      <td>Colisão traseira</td>\n",
       "      <td>...</td>\n",
       "      <td>0</td>\n",
       "      <td>1</td>\n",
       "      <td>0</td>\n",
       "      <td>1</td>\n",
       "      <td>2</td>\n",
       "      <td>-7,43280012</td>\n",
       "      <td>-40,68261908</td>\n",
       "      <td>SPRF-PI</td>\n",
       "      <td>DEL04-PI</td>\n",
       "      <td>UOP03-DEL04-PI</td>\n",
       "    </tr>\n",
       "    <tr>\n",
       "      <th>1</th>\n",
       "      <td>405158</td>\n",
       "      <td>2022-01-01</td>\n",
       "      <td>sábado</td>\n",
       "      <td>02:40:00</td>\n",
       "      <td>PR</td>\n",
       "      <td>116.0</td>\n",
       "      <td>33</td>\n",
       "      <td>CAMPINA GRANDE DO SUL</td>\n",
       "      <td>Ingestão de álcool pelo condutor</td>\n",
       "      <td>Tombamento</td>\n",
       "      <td>...</td>\n",
       "      <td>0</td>\n",
       "      <td>0</td>\n",
       "      <td>0</td>\n",
       "      <td>1</td>\n",
       "      <td>1</td>\n",
       "      <td>-25,114403</td>\n",
       "      <td>-48,8467554</td>\n",
       "      <td>SPRF-PR</td>\n",
       "      <td>DEL01-PR</td>\n",
       "      <td>UOP02-DEL01-PR</td>\n",
       "    </tr>\n",
       "    <tr>\n",
       "      <th>2</th>\n",
       "      <td>405172</td>\n",
       "      <td>2022-01-01</td>\n",
       "      <td>sábado</td>\n",
       "      <td>05:22:00</td>\n",
       "      <td>MS</td>\n",
       "      <td>163.0</td>\n",
       "      <td>393</td>\n",
       "      <td>NOVA ALVORADA DO SUL</td>\n",
       "      <td>Condutor deixou de manter distância do veículo...</td>\n",
       "      <td>Colisão traseira</td>\n",
       "      <td>...</td>\n",
       "      <td>0</td>\n",
       "      <td>1</td>\n",
       "      <td>0</td>\n",
       "      <td>1</td>\n",
       "      <td>2</td>\n",
       "      <td>-21,228445</td>\n",
       "      <td>-54,456296</td>\n",
       "      <td>SPRF-MS</td>\n",
       "      <td>DEL02-MS</td>\n",
       "      <td>UOP01-DEL02-MS</td>\n",
       "    </tr>\n",
       "    <tr>\n",
       "      <th>3</th>\n",
       "      <td>405203</td>\n",
       "      <td>2022-01-01</td>\n",
       "      <td>sábado</td>\n",
       "      <td>07:00:00</td>\n",
       "      <td>RJ</td>\n",
       "      <td>101.0</td>\n",
       "      <td>457</td>\n",
       "      <td>ANGRA DOS REIS</td>\n",
       "      <td>Reação tardia ou ineficiente do condutor</td>\n",
       "      <td>Colisão frontal</td>\n",
       "      <td>...</td>\n",
       "      <td>1</td>\n",
       "      <td>1</td>\n",
       "      <td>0</td>\n",
       "      <td>1</td>\n",
       "      <td>2</td>\n",
       "      <td>-23,03149804</td>\n",
       "      <td>-44,17715297</td>\n",
       "      <td>SPRF-RJ</td>\n",
       "      <td>DEL03-RJ</td>\n",
       "      <td>UOP02-DEL03-RJ</td>\n",
       "    </tr>\n",
       "    <tr>\n",
       "      <th>4</th>\n",
       "      <td>405207</td>\n",
       "      <td>2022-01-01</td>\n",
       "      <td>sábado</td>\n",
       "      <td>09:00:00</td>\n",
       "      <td>MG</td>\n",
       "      <td>40.0</td>\n",
       "      <td>508,3</td>\n",
       "      <td>RIBEIRAO DAS NEVES</td>\n",
       "      <td>Acumulo de água sobre o pavimento</td>\n",
       "      <td>Saída de leito carroçável</td>\n",
       "      <td>...</td>\n",
       "      <td>0</td>\n",
       "      <td>3</td>\n",
       "      <td>0</td>\n",
       "      <td>0</td>\n",
       "      <td>1</td>\n",
       "      <td>-19,76061249</td>\n",
       "      <td>-44,1347544</td>\n",
       "      <td>SPRF-MG</td>\n",
       "      <td>DEL02-MG</td>\n",
       "      <td>UOP01-DEL02-MG</td>\n",
       "    </tr>\n",
       "  </tbody>\n",
       "</table>\n",
       "<p>5 rows × 30 columns</p>\n",
       "</div>"
      ],
      "text/plain": [
       "       id data_inversa dia_semana   horario  uf     br     km  \\\n",
       "0  405151   2022-01-01     sábado  01:35:00  PI  316.0    415   \n",
       "1  405158   2022-01-01     sábado  02:40:00  PR  116.0     33   \n",
       "2  405172   2022-01-01     sábado  05:22:00  MS  163.0    393   \n",
       "3  405203   2022-01-01     sábado  07:00:00  RJ  101.0    457   \n",
       "4  405207   2022-01-01     sábado  09:00:00  MG   40.0  508,3   \n",
       "\n",
       "               municipio                                     causa_acidente  \\\n",
       "0            MARCOLANDIA                   Ingestão de álcool pelo condutor   \n",
       "1  CAMPINA GRANDE DO SUL                   Ingestão de álcool pelo condutor   \n",
       "2   NOVA ALVORADA DO SUL  Condutor deixou de manter distância do veículo...   \n",
       "3         ANGRA DOS REIS           Reação tardia ou ineficiente do condutor   \n",
       "4     RIBEIRAO DAS NEVES                  Acumulo de água sobre o pavimento   \n",
       "\n",
       "               tipo_acidente  ... feridos_graves ilesos ignorados feridos  \\\n",
       "0           Colisão traseira  ...              0      1         0       1   \n",
       "1                 Tombamento  ...              0      0         0       1   \n",
       "2           Colisão traseira  ...              0      1         0       1   \n",
       "3            Colisão frontal  ...              1      1         0       1   \n",
       "4  Saída de leito carroçável  ...              0      3         0       0   \n",
       "\n",
       "  veiculos      latitude     longitude  regional  delegacia             uop  \n",
       "0        2   -7,43280012  -40,68261908   SPRF-PI   DEL04-PI  UOP03-DEL04-PI  \n",
       "1        1    -25,114403   -48,8467554   SPRF-PR   DEL01-PR  UOP02-DEL01-PR  \n",
       "2        2    -21,228445    -54,456296   SPRF-MS   DEL02-MS  UOP01-DEL02-MS  \n",
       "3        2  -23,03149804  -44,17715297   SPRF-RJ   DEL03-RJ  UOP02-DEL03-RJ  \n",
       "4        1  -19,76061249   -44,1347544   SPRF-MG   DEL02-MG  UOP01-DEL02-MG  \n",
       "\n",
       "[5 rows x 30 columns]"
      ]
     },
     "execution_count": 5,
     "metadata": {},
     "output_type": "execute_result"
    }
   ],
   "source": [
    "df.head()"
   ]
  },
  {
   "cell_type": "code",
   "execution_count": 6,
   "metadata": {},
   "outputs": [
    {
     "data": {
      "text/plain": [
       "(64547, 30)"
      ]
     },
     "execution_count": 6,
     "metadata": {},
     "output_type": "execute_result"
    }
   ],
   "source": [
    "df.shape"
   ]
  },
  {
   "cell_type": "code",
   "execution_count": 7,
   "metadata": {},
   "outputs": [
    {
     "name": "stdout",
     "output_type": "stream",
     "text": [
      "<class 'pandas.core.frame.DataFrame'>\n",
      "RangeIndex: 64547 entries, 0 to 64546\n",
      "Data columns (total 30 columns):\n",
      " #   Column                  Non-Null Count  Dtype  \n",
      "---  ------                  --------------  -----  \n",
      " 0   id                      64547 non-null  int64  \n",
      " 1   data_inversa            64547 non-null  object \n",
      " 2   dia_semana              64547 non-null  object \n",
      " 3   horario                 64547 non-null  object \n",
      " 4   uf                      64547 non-null  object \n",
      " 5   br                      64350 non-null  float64\n",
      " 6   km                      64350 non-null  object \n",
      " 7   municipio               64547 non-null  object \n",
      " 8   causa_acidente          64547 non-null  object \n",
      " 9   tipo_acidente           64547 non-null  object \n",
      " 10  classificacao_acidente  64547 non-null  object \n",
      " 11  fase_dia                64547 non-null  object \n",
      " 12  sentido_via             64547 non-null  object \n",
      " 13  condicao_metereologica  64547 non-null  object \n",
      " 14  tipo_pista              64547 non-null  object \n",
      " 15  tracado_via             64547 non-null  object \n",
      " 16  uso_solo                64547 non-null  object \n",
      " 17  pessoas                 64547 non-null  int64  \n",
      " 18  mortos                  64547 non-null  int64  \n",
      " 19  feridos_leves           64547 non-null  int64  \n",
      " 20  feridos_graves          64547 non-null  int64  \n",
      " 21  ilesos                  64547 non-null  int64  \n",
      " 22  ignorados               64547 non-null  int64  \n",
      " 23  feridos                 64547 non-null  int64  \n",
      " 24  veiculos                64547 non-null  int64  \n",
      " 25  latitude                64547 non-null  object \n",
      " 26  longitude               64547 non-null  object \n",
      " 27  regional                64544 non-null  object \n",
      " 28  delegacia               63788 non-null  object \n",
      " 29  uop                     64499 non-null  object \n",
      "dtypes: float64(1), int64(9), object(20)\n",
      "memory usage: 14.8+ MB\n"
     ]
    }
   ],
   "source": [
    "df.info()"
   ]
  },
  {
   "cell_type": "code",
   "execution_count": 8,
   "metadata": {},
   "outputs": [
    {
     "data": {
      "text/plain": [
       "id                          0\n",
       "data_inversa                0\n",
       "dia_semana                  0\n",
       "horario                     0\n",
       "uf                          0\n",
       "br                        197\n",
       "km                        197\n",
       "municipio                   0\n",
       "causa_acidente              0\n",
       "tipo_acidente               0\n",
       "classificacao_acidente      0\n",
       "fase_dia                    0\n",
       "sentido_via                 0\n",
       "condicao_metereologica      0\n",
       "tipo_pista                  0\n",
       "tracado_via                 0\n",
       "uso_solo                    0\n",
       "pessoas                     0\n",
       "mortos                      0\n",
       "feridos_leves               0\n",
       "feridos_graves              0\n",
       "ilesos                      0\n",
       "ignorados                   0\n",
       "feridos                     0\n",
       "veiculos                    0\n",
       "latitude                    0\n",
       "longitude                   0\n",
       "regional                    3\n",
       "delegacia                 759\n",
       "uop                        48\n",
       "dtype: int64"
      ]
     },
     "execution_count": 8,
     "metadata": {},
     "output_type": "execute_result"
    }
   ],
   "source": [
    "df.isnull().sum()"
   ]
  },
  {
   "cell_type": "code",
   "execution_count": 9,
   "metadata": {},
   "outputs": [
    {
     "data": {
      "text/html": [
       "<div>\n",
       "<style scoped>\n",
       "    .dataframe tbody tr th:only-of-type {\n",
       "        vertical-align: middle;\n",
       "    }\n",
       "\n",
       "    .dataframe tbody tr th {\n",
       "        vertical-align: top;\n",
       "    }\n",
       "\n",
       "    .dataframe thead th {\n",
       "        text-align: right;\n",
       "    }\n",
       "</style>\n",
       "<table border=\"1\" class=\"dataframe\">\n",
       "  <thead>\n",
       "    <tr style=\"text-align: right;\">\n",
       "      <th></th>\n",
       "      <th>id</th>\n",
       "      <th>data_inversa</th>\n",
       "      <th>dia_semana</th>\n",
       "      <th>horario</th>\n",
       "      <th>uf</th>\n",
       "      <th>br</th>\n",
       "      <th>km</th>\n",
       "      <th>municipio</th>\n",
       "      <th>causa_acidente</th>\n",
       "      <th>tipo_acidente</th>\n",
       "      <th>...</th>\n",
       "      <th>feridos_graves</th>\n",
       "      <th>ilesos</th>\n",
       "      <th>ignorados</th>\n",
       "      <th>feridos</th>\n",
       "      <th>veiculos</th>\n",
       "      <th>latitude</th>\n",
       "      <th>longitude</th>\n",
       "      <th>regional</th>\n",
       "      <th>delegacia</th>\n",
       "      <th>uop</th>\n",
       "    </tr>\n",
       "  </thead>\n",
       "  <tbody>\n",
       "    <tr>\n",
       "      <th>49</th>\n",
       "      <td>405687</td>\n",
       "      <td>2022-01-03</td>\n",
       "      <td>segunda-feira</td>\n",
       "      <td>11:30:00</td>\n",
       "      <td>RR</td>\n",
       "      <td>174.0</td>\n",
       "      <td>503</td>\n",
       "      <td>BOA VISTA</td>\n",
       "      <td>Condutor deixou de manter distância do veículo...</td>\n",
       "      <td>Colisão traseira</td>\n",
       "      <td>...</td>\n",
       "      <td>0</td>\n",
       "      <td>2</td>\n",
       "      <td>0</td>\n",
       "      <td>0</td>\n",
       "      <td>2</td>\n",
       "      <td>2,794901</td>\n",
       "      <td>-60,698441</td>\n",
       "      <td>SPRF-RR</td>\n",
       "      <td>NaN</td>\n",
       "      <td>UOP01-DEL01-RR</td>\n",
       "    </tr>\n",
       "    <tr>\n",
       "      <th>207</th>\n",
       "      <td>407210</td>\n",
       "      <td>2022-01-07</td>\n",
       "      <td>sexta-feira</td>\n",
       "      <td>01:30:00</td>\n",
       "      <td>RR</td>\n",
       "      <td>174.0</td>\n",
       "      <td>318</td>\n",
       "      <td>CARACARAI</td>\n",
       "      <td>Reação tardia ou ineficiente do condutor</td>\n",
       "      <td>Colisão com objeto</td>\n",
       "      <td>...</td>\n",
       "      <td>1</td>\n",
       "      <td>1</td>\n",
       "      <td>0</td>\n",
       "      <td>1</td>\n",
       "      <td>1</td>\n",
       "      <td>1,49675231</td>\n",
       "      <td>-60,94122833</td>\n",
       "      <td>SPRF-RR</td>\n",
       "      <td>NaN</td>\n",
       "      <td>UOP01-DEL01-RR</td>\n",
       "    </tr>\n",
       "    <tr>\n",
       "      <th>248</th>\n",
       "      <td>407393</td>\n",
       "      <td>2022-01-08</td>\n",
       "      <td>sábado</td>\n",
       "      <td>02:00:00</td>\n",
       "      <td>AP</td>\n",
       "      <td>210.0</td>\n",
       "      <td>2</td>\n",
       "      <td>MACAPA</td>\n",
       "      <td>Ingestão de álcool pelo condutor</td>\n",
       "      <td>Colisão com objeto</td>\n",
       "      <td>...</td>\n",
       "      <td>0</td>\n",
       "      <td>1</td>\n",
       "      <td>0</td>\n",
       "      <td>1</td>\n",
       "      <td>2</td>\n",
       "      <td>0,08282017</td>\n",
       "      <td>-51,07776189</td>\n",
       "      <td>SPRF-AP</td>\n",
       "      <td>NaN</td>\n",
       "      <td>UOP01-DEL01-AP</td>\n",
       "    </tr>\n",
       "    <tr>\n",
       "      <th>474</th>\n",
       "      <td>408564</td>\n",
       "      <td>2022-01-14</td>\n",
       "      <td>sexta-feira</td>\n",
       "      <td>12:00:00</td>\n",
       "      <td>RR</td>\n",
       "      <td>174.0</td>\n",
       "      <td>504</td>\n",
       "      <td>BOA VISTA</td>\n",
       "      <td>Condutor deixou de manter distância do veículo...</td>\n",
       "      <td>Colisão traseira</td>\n",
       "      <td>...</td>\n",
       "      <td>0</td>\n",
       "      <td>3</td>\n",
       "      <td>0</td>\n",
       "      <td>1</td>\n",
       "      <td>2</td>\n",
       "      <td>2,801374</td>\n",
       "      <td>-60,694801</td>\n",
       "      <td>SPRF-RR</td>\n",
       "      <td>NaN</td>\n",
       "      <td>UOP01-DEL01-RR</td>\n",
       "    </tr>\n",
       "    <tr>\n",
       "      <th>493</th>\n",
       "      <td>408663</td>\n",
       "      <td>2022-01-14</td>\n",
       "      <td>sexta-feira</td>\n",
       "      <td>20:30:00</td>\n",
       "      <td>BA</td>\n",
       "      <td>NaN</td>\n",
       "      <td>NaN</td>\n",
       "      <td>BARREIRAS</td>\n",
       "      <td>Entrada inopinada do pedestre</td>\n",
       "      <td>Atropelamento de Pedestre</td>\n",
       "      <td>...</td>\n",
       "      <td>0</td>\n",
       "      <td>1</td>\n",
       "      <td>0</td>\n",
       "      <td>0</td>\n",
       "      <td>1</td>\n",
       "      <td>-12,1376959</td>\n",
       "      <td>-44,921313</td>\n",
       "      <td>SPRF-BA</td>\n",
       "      <td>DEL10-BA</td>\n",
       "      <td>UOP01-DEL10-BA</td>\n",
       "    </tr>\n",
       "  </tbody>\n",
       "</table>\n",
       "<p>5 rows × 30 columns</p>\n",
       "</div>"
      ],
      "text/plain": [
       "         id data_inversa     dia_semana   horario  uf     br   km  municipio  \\\n",
       "49   405687   2022-01-03  segunda-feira  11:30:00  RR  174.0  503  BOA VISTA   \n",
       "207  407210   2022-01-07    sexta-feira  01:30:00  RR  174.0  318  CARACARAI   \n",
       "248  407393   2022-01-08         sábado  02:00:00  AP  210.0    2     MACAPA   \n",
       "474  408564   2022-01-14    sexta-feira  12:00:00  RR  174.0  504  BOA VISTA   \n",
       "493  408663   2022-01-14    sexta-feira  20:30:00  BA    NaN  NaN  BARREIRAS   \n",
       "\n",
       "                                        causa_acidente  \\\n",
       "49   Condutor deixou de manter distância do veículo...   \n",
       "207           Reação tardia ou ineficiente do condutor   \n",
       "248                   Ingestão de álcool pelo condutor   \n",
       "474  Condutor deixou de manter distância do veículo...   \n",
       "493                      Entrada inopinada do pedestre   \n",
       "\n",
       "                 tipo_acidente  ... feridos_graves ilesos ignorados feridos  \\\n",
       "49            Colisão traseira  ...              0      2         0       0   \n",
       "207         Colisão com objeto  ...              1      1         0       1   \n",
       "248         Colisão com objeto  ...              0      1         0       1   \n",
       "474           Colisão traseira  ...              0      3         0       1   \n",
       "493  Atropelamento de Pedestre  ...              0      1         0       0   \n",
       "\n",
       "    veiculos     latitude     longitude  regional  delegacia             uop  \n",
       "49         2     2,794901    -60,698441   SPRF-RR        NaN  UOP01-DEL01-RR  \n",
       "207        1   1,49675231  -60,94122833   SPRF-RR        NaN  UOP01-DEL01-RR  \n",
       "248        2   0,08282017  -51,07776189   SPRF-AP        NaN  UOP01-DEL01-AP  \n",
       "474        2     2,801374    -60,694801   SPRF-RR        NaN  UOP01-DEL01-RR  \n",
       "493        1  -12,1376959    -44,921313   SPRF-BA   DEL10-BA  UOP01-DEL10-BA  \n",
       "\n",
       "[5 rows x 30 columns]"
      ]
     },
     "execution_count": 9,
     "metadata": {},
     "output_type": "execute_result"
    }
   ],
   "source": [
    "df_nulos = df[df.isnull().any(axis=1)]\n",
    "df_nulos.head()"
   ]
  },
  {
   "cell_type": "code",
   "execution_count": 10,
   "metadata": {},
   "outputs": [],
   "source": [
    "df = df.dropna(subset=['uop', 'br', 'km'])"
   ]
  },
  {
   "cell_type": "code",
   "execution_count": 11,
   "metadata": {},
   "outputs": [
    {
     "data": {
      "text/plain": [
       "id                          0\n",
       "data_inversa                0\n",
       "dia_semana                  0\n",
       "horario                     0\n",
       "uf                          0\n",
       "br                          0\n",
       "km                          0\n",
       "municipio                   0\n",
       "causa_acidente              0\n",
       "tipo_acidente               0\n",
       "classificacao_acidente      0\n",
       "fase_dia                    0\n",
       "sentido_via                 0\n",
       "condicao_metereologica      0\n",
       "tipo_pista                  0\n",
       "tracado_via                 0\n",
       "uso_solo                    0\n",
       "pessoas                     0\n",
       "mortos                      0\n",
       "feridos_leves               0\n",
       "feridos_graves              0\n",
       "ilesos                      0\n",
       "ignorados                   0\n",
       "feridos                     0\n",
       "veiculos                    0\n",
       "latitude                    0\n",
       "longitude                   0\n",
       "regional                    0\n",
       "delegacia                 734\n",
       "uop                         0\n",
       "dtype: int64"
      ]
     },
     "execution_count": 11,
     "metadata": {},
     "output_type": "execute_result"
    }
   ],
   "source": [
    "df.isnull().sum()"
   ]
  },
  {
   "cell_type": "code",
   "execution_count": 12,
   "metadata": {},
   "outputs": [
    {
     "name": "stdout",
     "output_type": "stream",
     "text": [
      "['UOP03', 'DEL04', 'PI']\n"
     ]
    },
    {
     "data": {
      "text/plain": [
       "'DEL04-PI'"
      ]
     },
     "execution_count": 12,
     "metadata": {},
     "output_type": "execute_result"
    }
   ],
   "source": [
    "vetor = df['uop'][0].split('-')\n",
    "\n",
    "print(vetor)\n",
    "\n",
    "'-'.join(vetor)[6:]"
   ]
  },
  {
   "cell_type": "code",
   "execution_count": 13,
   "metadata": {},
   "outputs": [],
   "source": [
    "df['delegacia'] = df['delegacia'].fillna(df['uop'].apply(lambda x: '-'.join(x.split('-')[1:])))"
   ]
  },
  {
   "cell_type": "code",
   "execution_count": 14,
   "metadata": {},
   "outputs": [
    {
     "data": {
      "text/html": [
       "<div>\n",
       "<style scoped>\n",
       "    .dataframe tbody tr th:only-of-type {\n",
       "        vertical-align: middle;\n",
       "    }\n",
       "\n",
       "    .dataframe tbody tr th {\n",
       "        vertical-align: top;\n",
       "    }\n",
       "\n",
       "    .dataframe thead th {\n",
       "        text-align: right;\n",
       "    }\n",
       "</style>\n",
       "<table border=\"1\" class=\"dataframe\">\n",
       "  <thead>\n",
       "    <tr style=\"text-align: right;\">\n",
       "      <th></th>\n",
       "      <th>id</th>\n",
       "      <th>data_inversa</th>\n",
       "      <th>dia_semana</th>\n",
       "      <th>horario</th>\n",
       "      <th>uf</th>\n",
       "      <th>br</th>\n",
       "      <th>km</th>\n",
       "      <th>municipio</th>\n",
       "      <th>causa_acidente</th>\n",
       "      <th>tipo_acidente</th>\n",
       "      <th>...</th>\n",
       "      <th>feridos_graves</th>\n",
       "      <th>ilesos</th>\n",
       "      <th>ignorados</th>\n",
       "      <th>feridos</th>\n",
       "      <th>veiculos</th>\n",
       "      <th>latitude</th>\n",
       "      <th>longitude</th>\n",
       "      <th>regional</th>\n",
       "      <th>delegacia</th>\n",
       "      <th>uop</th>\n",
       "    </tr>\n",
       "  </thead>\n",
       "  <tbody>\n",
       "    <tr>\n",
       "      <th>49</th>\n",
       "      <td>405687</td>\n",
       "      <td>2022-01-03</td>\n",
       "      <td>segunda-feira</td>\n",
       "      <td>11:30:00</td>\n",
       "      <td>RR</td>\n",
       "      <td>174.0</td>\n",
       "      <td>503</td>\n",
       "      <td>BOA VISTA</td>\n",
       "      <td>Condutor deixou de manter distância do veículo...</td>\n",
       "      <td>Colisão traseira</td>\n",
       "      <td>...</td>\n",
       "      <td>0</td>\n",
       "      <td>2</td>\n",
       "      <td>0</td>\n",
       "      <td>0</td>\n",
       "      <td>2</td>\n",
       "      <td>2,794901</td>\n",
       "      <td>-60,698441</td>\n",
       "      <td>SPRF-RR</td>\n",
       "      <td>DEL01-RR</td>\n",
       "      <td>UOP01-DEL01-RR</td>\n",
       "    </tr>\n",
       "  </tbody>\n",
       "</table>\n",
       "<p>1 rows × 30 columns</p>\n",
       "</div>"
      ],
      "text/plain": [
       "        id data_inversa     dia_semana   horario  uf     br   km  municipio  \\\n",
       "49  405687   2022-01-03  segunda-feira  11:30:00  RR  174.0  503  BOA VISTA   \n",
       "\n",
       "                                       causa_acidente     tipo_acidente  ...  \\\n",
       "49  Condutor deixou de manter distância do veículo...  Colisão traseira  ...   \n",
       "\n",
       "   feridos_graves ilesos ignorados feridos veiculos  latitude   longitude  \\\n",
       "49              0      2         0       0        2  2,794901  -60,698441   \n",
       "\n",
       "    regional  delegacia             uop  \n",
       "49   SPRF-RR   DEL01-RR  UOP01-DEL01-RR  \n",
       "\n",
       "[1 rows x 30 columns]"
      ]
     },
     "execution_count": 14,
     "metadata": {},
     "output_type": "execute_result"
    }
   ],
   "source": [
    "df.query('id == 405687')"
   ]
  },
  {
   "cell_type": "code",
   "execution_count": 15,
   "metadata": {},
   "outputs": [
    {
     "data": {
      "text/plain": [
       "np.int64(0)"
      ]
     },
     "execution_count": 15,
     "metadata": {},
     "output_type": "execute_result"
    }
   ],
   "source": [
    "df.isnull().sum().sum()"
   ]
  },
  {
   "cell_type": "markdown",
   "metadata": {},
   "source": [
    "# Fim do Tratamento"
   ]
  },
  {
   "cell_type": "code",
   "execution_count": 16,
   "metadata": {},
   "outputs": [
    {
     "data": {
      "text/plain": [
       "array(['PI', 'PR', 'MS', 'RJ', 'MG', 'PB', 'SC', 'CE', 'MT', 'PE', 'BA',\n",
       "       'GO', 'SP', 'DF', 'RS', 'ES', 'RR', 'PA', 'RN', 'MA', 'AL', 'SE',\n",
       "       'RO', 'TO', 'AP', 'AM', 'AC'], dtype=object)"
      ]
     },
     "execution_count": 16,
     "metadata": {},
     "output_type": "execute_result"
    }
   ],
   "source": [
    "df['uf'].unique()"
   ]
  },
  {
   "cell_type": "code",
   "execution_count": 20,
   "metadata": {},
   "outputs": [],
   "source": [
    "Regiao_Norte = df[df['uf'].isin(['PA', 'AM', 'RR', 'RO', 'AC', 'AP', 'TO'])]\n",
    "Regiao_Nordeste = df[df['uf'].isin(['MA', 'PI', 'BA', 'CE', 'RN', 'PB', 'PE', 'AL', 'SE'])]\n",
    "Regiao_Centro_Oeste = df[df['uf'].isin(['MT', 'MS', 'GO', 'DF'])]\n",
    "Regiao_Sudeste = df[df['uf'].isin(['MG', 'ES', 'RJ', 'SP'])]\n",
    "Regiao_Sul = df[df['uf'].isin(['PR', 'SC', 'RS'])]"
   ]
  },
  {
   "cell_type": "code",
   "execution_count": 52,
   "metadata": {},
   "outputs": [],
   "source": [
    "norte = ['PA', 'AM', 'RR', 'RO', 'AC', 'AP', 'TO']\n",
    "nordeste = ['MA', 'PI', 'BA', 'CE', 'RN', 'PB', 'PE', 'AL', 'SE']\n",
    "centro_oeste = ['MT', 'MS', 'GO', 'DF']\n",
    "sudeste = ['MG', 'ES', 'RJ', 'SP']\n",
    "sul = ['PR', 'SC', 'RS']"
   ]
  },
  {
   "cell_type": "code",
   "execution_count": 53,
   "metadata": {},
   "outputs": [],
   "source": [
    "def definir_regiao(estado):\n",
    "    if estado in norte:\n",
    "        return 'Norte'\n",
    "    elif estado in nordeste:\n",
    "        return 'Nordeste'\n",
    "    elif estado in centro_oeste:\n",
    "        return 'Centro Oeste'\n",
    "    elif estado in sudeste:\n",
    "        return 'Sudeste'\n",
    "    else:\n",
    "        return 'Sul'"
   ]
  },
  {
   "cell_type": "code",
   "execution_count": 54,
   "metadata": {},
   "outputs": [],
   "source": [
    "df['regiao'] = df['uf'].apply(lambda x: definir_regiao(x))"
   ]
  },
  {
   "cell_type": "code",
   "execution_count": 34,
   "metadata": {},
   "outputs": [
    {
     "data": {
      "image/png": "[encoded data removed]",
      "text/plain": [
       "<Figure size 640x480 with 1 Axes>"
      ]
     },
     "metadata": {},
     "output_type": "display_data"
    }
   ],
   "source": [
    "sns.barplot(x=Regiao_Nordeste['tipo_acidente'].value_counts().index, y=Regiao_Nordeste['tipo_acidente'].value_counts())\n",
    "plt.xticks(rotation=90)\n",
    "plt.show()"
   ]
  },
  {
   "cell_type": "code",
   "execution_count": 50,
   "metadata": {},
   "outputs": [
    {
     "data": {
      "image/png": "[encoded data removed]",
      "text/plain": [
       "<Figure size 640x480 with 1 Axes>"
      ]
     },
     "metadata": {},
     "output_type": "display_data"
    }
   ],
   "source": [
    "sns.barplot(x=df['uf'].value_counts().index, y=df['uf'].value_counts())\n",
    "plt.show()"
   ]
  },
  {
   "cell_type": "code",
   "execution_count": 56,
   "metadata": {},
   "outputs": [
    {
     "data": {
      "image/png": "[encoded data removed]",
      "text/plain": [
       "<Figure size 640x480 with 1 Axes>"
      ]
     },
     "metadata": {},
     "output_type": "display_data"
    }
   ],
   "source": [
    "sns.barplot(x=df['regiao'].value_counts().index, y=df['regiao'].value_counts())\n",
    "plt.show()"
   ]
  },
  {
   "cell_type": "code",
   "execution_count": 48,
   "metadata": {},
   "outputs": [
    {
     "data": {
      "image/png": "[encoded data removed]",
      "text/plain": [
       "<Figure size 640x480 with 1 Axes>"
      ]
     },
     "metadata": {},
     "output_type": "display_data"
    }
   ],
   "source": [
    "sns.barplot(x=df['uf'].value_counts().index, y=df['uf'].value_counts())\n",
    "plt.show()"
   ]
  },
  {
   "cell_type": "code",
   "execution_count": 99,
   "metadata": {},
   "outputs": [
    {
     "data": {
      "text/plain": [
       "index     112608853\n",
       "mortos          431\n",
       "dtype: int64"
      ]
     },
     "execution_count": 99,
     "metadata": {},
     "output_type": "execute_result"
    }
   ],
   "source": [
    "df.query('regiao == \"Norte\"')['mortos'].reset_index().sum()"
   ]
  },
  {
   "cell_type": "code",
   "execution_count": 104,
   "metadata": {},
   "outputs": [
    {
     "data": {
      "text/html": [
       "<div>\n",
       "<style scoped>\n",
       "    .dataframe tbody tr th:only-of-type {\n",
       "        vertical-align: middle;\n",
       "    }\n",
       "\n",
       "    .dataframe tbody tr th {\n",
       "        vertical-align: top;\n",
       "    }\n",
       "\n",
       "    .dataframe thead th {\n",
       "        text-align: right;\n",
       "    }\n",
       "</style>\n",
       "<table border=\"1\" class=\"dataframe\">\n",
       "  <thead>\n",
       "    <tr style=\"text-align: right;\">\n",
       "      <th></th>\n",
       "      <th>regiao</th>\n",
       "      <th>mortos</th>\n",
       "    </tr>\n",
       "  </thead>\n",
       "  <tbody>\n",
       "    <tr>\n",
       "      <th>0</th>\n",
       "      <td>Norte</td>\n",
       "      <td>431</td>\n",
       "    </tr>\n",
       "    <tr>\n",
       "      <th>1</th>\n",
       "      <td>Sul</td>\n",
       "      <td>1255</td>\n",
       "    </tr>\n",
       "  </tbody>\n",
       "</table>\n",
       "</div>"
      ],
      "text/plain": [
       "  regiao  mortos\n",
       "0  Norte     431\n",
       "1    Sul    1255"
      ]
     },
     "execution_count": 104,
     "metadata": {},
     "output_type": "execute_result"
    }
   ],
   "source": [
    "df_filtrado = df[(df['regiao'].isin(['Norte', 'Sul'])) & (df['mortos'] > 0)]\n",
    "\n",
    "df_mortes = df_filtrado.groupby('regiao')['mortos'].sum().reset_index()\n",
    "\n",
    "df_mortes"
   ]
  },
  {
   "cell_type": "code",
   "execution_count": 105,
   "metadata": {},
   "outputs": [
    {
     "data": {
      "image/png": "[encoded data removed]",
      "text/plain": [
       "<Figure size 640x480 with 1 Axes>"
      ]
     },
     "metadata": {},
     "output_type": "display_data"
    }
   ],
   "source": [
    "sns.barplot(df_mortes, x='regiao', y='mortos', hue='regiao')\n",
    "plt.show()"
   ]
  },
  {
   "cell_type": "code",
   "execution_count": null,
   "metadata": {},
   "outputs": [],
   "source": []
  }
 ],
 "metadata": {
  "kernelspec": {
   "display_name": "Python 3",
   "language": "python",
   "name": "python3"
  },
  "language_info": {
   "codemirror_mode": {
    "name": "ipython",
    "version": 3
   },
   "file_extension": ".py",
   "mimetype": "text/x-python",
   "name": "python",
   "nbconvert_exporter": "python",
   "pygments_lexer": "ipython3",
   "version": "3.12.3"
  }
 },
 "nbformat": 4,
 "nbformat_minor": 2
}
